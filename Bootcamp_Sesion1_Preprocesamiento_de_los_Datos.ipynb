{
  "nbformat": 4,
  "nbformat_minor": 0,
  "metadata": {
    "colab": {
      "name": "Bootcamp_Sesion1_Preprocesamiento_de_los_Datos.ipynb",
      "provenance": [],
      "collapsed_sections": [],
      "toc_visible": true,
      "include_colab_link": true
    },
    "kernelspec": {
      "name": "python3",
      "display_name": "Python 3"
    },
    "accelerator": "TPU"
  },
  "cells": [
    {
      "cell_type": "markdown",
      "metadata": {
        "id": "view-in-github",
        "colab_type": "text"
      },
      "source": [
        "<a href=\"https://colab.research.google.com/github/jsnunki/bootcamp-hackspace-datafem/blob/master/Bootcamp_Sesion1_Preprocesamiento_de_los_Datos.ipynb\" target=\"_parent\"><img src=\"https://colab.research.google.com/assets/colab-badge.svg\" alt=\"Open In Colab\"/></a>"
      ]
    },
    {
      "cell_type": "markdown",
      "metadata": {
        "id": "nWi-0Oj5uSF4",
        "colab_type": "text"
      },
      "source": [
        "# **Presentación del caso**"
      ]
    },
    {
      "cell_type": "markdown",
      "metadata": {
        "id": "BuNsv4aMuYxk",
        "colab_type": "text"
      },
      "source": [
        "Predecir o estimar el precio de una vivienda puede ser de gran ayuda a la hora  de tomar decisiones importantes tales como la adquisición de casa propia . A continuación se presenta un dataset compuesto por **25, 660 registros** para **Argentina y Colombia** adjunto a las siguientes **10 variables**:\n",
        "\n",
        "    1.   pais : \"Argentina\", \"Colombia\"\n",
        "    2.   provincia_departamento: Provincia o departamento (no ambas)  donde se ubica el departamento\n",
        "    3.   ciudad: Ciudad donde se ubica el departamento\n",
        "    4.   property_type: \"Departamento\", \"Apartamento\"\n",
        "    5.   operation_type: \"Venta\", \"Alquiler\"\n",
        "    6.   rooms: cantidad de espacios en general dentro del apartamento\n",
        "    7.   bedrooms: cantidad de cuartos donde dormir dentro del apartamento\n",
        "    8.   bathrooms: cantidad de baños dentro del apartamento\n",
        "    9.   surface_total: área total en metros cuadrados del departamento\n",
        "    10.  currency: USD (dólar americano)\n",
        "\n",
        "![Image of Yaktocat](https://www.datasource.ai/uploads/7c2c64c37b855715637538ef4f19a46d.png)"
      ]
    },
    {
      "cell_type": "markdown",
      "metadata": {
        "id": "UVXIYLgptpI7",
        "colab_type": "text"
      },
      "source": [
        "# **Lectura de los datos**"
      ]
    },
    {
      "cell_type": "code",
      "metadata": {
        "id": "X_b6A4dFtWtf",
        "colab_type": "code",
        "colab": {
          "base_uri": "https://localhost:8080/",
          "height": 538
        },
        "outputId": "12dbbc9b-a0a7-4306-d4fa-6ec3eee1b24f"
      },
      "source": [
        "import pandas as pd\n",
        "import numpy as np\n",
        "tipo_datos={'rooms': 'int', 'bedrooms': 'int', 'bathrooms': 'int', 'surface_total': 'int', 'price': 'int'}\n",
        "data=pd.read_csv(\"https://raw.githubusercontent.com/javalpe/datasets/master/234f7576969252b72e52fa4a4027fabd.csv\", encoding='latin', index_col='Id', dtype=tipo_datos)\n",
        "data "
      ],
      "execution_count": null,
      "outputs": [
        {
          "output_type": "execute_result",
          "data": {
            "text/html": [
              "<div>\n",
              "<style scoped>\n",
              "    .dataframe tbody tr th:only-of-type {\n",
              "        vertical-align: middle;\n",
              "    }\n",
              "\n",
              "    .dataframe tbody tr th {\n",
              "        vertical-align: top;\n",
              "    }\n",
              "\n",
              "    .dataframe thead th {\n",
              "        text-align: right;\n",
              "    }\n",
              "</style>\n",
              "<table border=\"1\" class=\"dataframe\">\n",
              "  <thead>\n",
              "    <tr style=\"text-align: right;\">\n",
              "      <th></th>\n",
              "      <th>pais</th>\n",
              "      <th>provincia_departamento</th>\n",
              "      <th>ciudad</th>\n",
              "      <th>property_type</th>\n",
              "      <th>operation_type</th>\n",
              "      <th>rooms</th>\n",
              "      <th>bedrooms</th>\n",
              "      <th>bathrooms</th>\n",
              "      <th>surface_total</th>\n",
              "      <th>currency</th>\n",
              "      <th>price</th>\n",
              "    </tr>\n",
              "    <tr>\n",
              "      <th>Id</th>\n",
              "      <th></th>\n",
              "      <th></th>\n",
              "      <th></th>\n",
              "      <th></th>\n",
              "      <th></th>\n",
              "      <th></th>\n",
              "      <th></th>\n",
              "      <th></th>\n",
              "      <th></th>\n",
              "      <th></th>\n",
              "      <th></th>\n",
              "    </tr>\n",
              "  </thead>\n",
              "  <tbody>\n",
              "    <tr>\n",
              "      <th>0</th>\n",
              "      <td>Argentina</td>\n",
              "      <td>Capital Federal</td>\n",
              "      <td>Villa Crespo</td>\n",
              "      <td>Departamento</td>\n",
              "      <td>Venta</td>\n",
              "      <td>2</td>\n",
              "      <td>1</td>\n",
              "      <td>1</td>\n",
              "      <td>37</td>\n",
              "      <td>USD</td>\n",
              "      <td>85000</td>\n",
              "    </tr>\n",
              "    <tr>\n",
              "      <th>1</th>\n",
              "      <td>Argentina</td>\n",
              "      <td>Capital Federal</td>\n",
              "      <td>Palermo</td>\n",
              "      <td>Departamento</td>\n",
              "      <td>Venta</td>\n",
              "      <td>6</td>\n",
              "      <td>4</td>\n",
              "      <td>4</td>\n",
              "      <td>300</td>\n",
              "      <td>USD</td>\n",
              "      <td>1590000</td>\n",
              "    </tr>\n",
              "    <tr>\n",
              "      <th>2</th>\n",
              "      <td>Colombia</td>\n",
              "      <td>AtlÃ¡ntico</td>\n",
              "      <td>Barranquilla</td>\n",
              "      <td>Apartamento</td>\n",
              "      <td>Venta</td>\n",
              "      <td>3</td>\n",
              "      <td>3</td>\n",
              "      <td>3</td>\n",
              "      <td>95</td>\n",
              "      <td>USD</td>\n",
              "      <td>85329</td>\n",
              "    </tr>\n",
              "    <tr>\n",
              "      <th>3</th>\n",
              "      <td>Colombia</td>\n",
              "      <td>Valle del Cauca</td>\n",
              "      <td>Cali</td>\n",
              "      <td>Apartamento</td>\n",
              "      <td>Venta</td>\n",
              "      <td>3</td>\n",
              "      <td>3</td>\n",
              "      <td>1</td>\n",
              "      <td>60</td>\n",
              "      <td>USD</td>\n",
              "      <td>22846</td>\n",
              "    </tr>\n",
              "    <tr>\n",
              "      <th>4</th>\n",
              "      <td>Argentina</td>\n",
              "      <td>Capital Federal</td>\n",
              "      <td>Balvanera</td>\n",
              "      <td>Departamento</td>\n",
              "      <td>Venta</td>\n",
              "      <td>3</td>\n",
              "      <td>2</td>\n",
              "      <td>1</td>\n",
              "      <td>45</td>\n",
              "      <td>USD</td>\n",
              "      <td>80000</td>\n",
              "    </tr>\n",
              "    <tr>\n",
              "      <th>...</th>\n",
              "      <td>...</td>\n",
              "      <td>...</td>\n",
              "      <td>...</td>\n",
              "      <td>...</td>\n",
              "      <td>...</td>\n",
              "      <td>...</td>\n",
              "      <td>...</td>\n",
              "      <td>...</td>\n",
              "      <td>...</td>\n",
              "      <td>...</td>\n",
              "      <td>...</td>\n",
              "    </tr>\n",
              "    <tr>\n",
              "      <th>25655</th>\n",
              "      <td>Colombia</td>\n",
              "      <td>Antioquia</td>\n",
              "      <td>Bello</td>\n",
              "      <td>Apartamento</td>\n",
              "      <td>Venta</td>\n",
              "      <td>3</td>\n",
              "      <td>3</td>\n",
              "      <td>2</td>\n",
              "      <td>61</td>\n",
              "      <td>USD</td>\n",
              "      <td>41288</td>\n",
              "    </tr>\n",
              "    <tr>\n",
              "      <th>25656</th>\n",
              "      <td>Argentina</td>\n",
              "      <td>Capital Federal</td>\n",
              "      <td>Caballito</td>\n",
              "      <td>Departamento</td>\n",
              "      <td>Venta</td>\n",
              "      <td>2</td>\n",
              "      <td>1</td>\n",
              "      <td>1</td>\n",
              "      <td>40</td>\n",
              "      <td>USD</td>\n",
              "      <td>85000</td>\n",
              "    </tr>\n",
              "    <tr>\n",
              "      <th>25657</th>\n",
              "      <td>Argentina</td>\n",
              "      <td>Capital Federal</td>\n",
              "      <td>Villa del Parque</td>\n",
              "      <td>Departamento</td>\n",
              "      <td>Venta</td>\n",
              "      <td>2</td>\n",
              "      <td>1</td>\n",
              "      <td>1</td>\n",
              "      <td>61</td>\n",
              "      <td>USD</td>\n",
              "      <td>185700</td>\n",
              "    </tr>\n",
              "    <tr>\n",
              "      <th>25658</th>\n",
              "      <td>Argentina</td>\n",
              "      <td>Capital Federal</td>\n",
              "      <td>San Cristobal</td>\n",
              "      <td>Departamento</td>\n",
              "      <td>Venta</td>\n",
              "      <td>3</td>\n",
              "      <td>2</td>\n",
              "      <td>1</td>\n",
              "      <td>53</td>\n",
              "      <td>USD</td>\n",
              "      <td>120000</td>\n",
              "    </tr>\n",
              "    <tr>\n",
              "      <th>25659</th>\n",
              "      <td>Argentina</td>\n",
              "      <td>Buenos Aires Costa AtlÃ¡ntica</td>\n",
              "      <td>Mar del Plata</td>\n",
              "      <td>Departamento</td>\n",
              "      <td>Venta</td>\n",
              "      <td>2</td>\n",
              "      <td>1</td>\n",
              "      <td>1</td>\n",
              "      <td>45</td>\n",
              "      <td>USD</td>\n",
              "      <td>63000</td>\n",
              "    </tr>\n",
              "  </tbody>\n",
              "</table>\n",
              "<p>25660 rows × 11 columns</p>\n",
              "</div>"
            ],
            "text/plain": [
              "            pais         provincia_departamento  ... currency    price\n",
              "Id                                               ...                  \n",
              "0      Argentina                Capital Federal  ...      USD    85000\n",
              "1      Argentina                Capital Federal  ...      USD  1590000\n",
              "2       Colombia                     AtlÃ¡ntico  ...      USD    85329\n",
              "3       Colombia                Valle del Cauca  ...      USD    22846\n",
              "4      Argentina                Capital Federal  ...      USD    80000\n",
              "...          ...                            ...  ...      ...      ...\n",
              "25655   Colombia                      Antioquia  ...      USD    41288\n",
              "25656  Argentina                Capital Federal  ...      USD    85000\n",
              "25657  Argentina                Capital Federal  ...      USD   185700\n",
              "25658  Argentina                Capital Federal  ...      USD   120000\n",
              "25659  Argentina  Buenos Aires Costa AtlÃ¡ntica  ...      USD    63000\n",
              "\n",
              "[25660 rows x 11 columns]"
            ]
          },
          "metadata": {
            "tags": []
          },
          "execution_count": 14
        }
      ]
    },
    {
      "cell_type": "code",
      "metadata": {
        "id": "oPwAkUIlC1CS",
        "colab_type": "code",
        "colab": {
          "base_uri": "https://localhost:8080/",
          "height": 538
        },
        "outputId": "6316a162-1c7b-4606-feea-e551d0b69fd5"
      },
      "source": [
        "data.drop('currency', axis=1)"
      ],
      "execution_count": null,
      "outputs": [
        {
          "output_type": "execute_result",
          "data": {
            "text/html": [
              "<div>\n",
              "<style scoped>\n",
              "    .dataframe tbody tr th:only-of-type {\n",
              "        vertical-align: middle;\n",
              "    }\n",
              "\n",
              "    .dataframe tbody tr th {\n",
              "        vertical-align: top;\n",
              "    }\n",
              "\n",
              "    .dataframe thead th {\n",
              "        text-align: right;\n",
              "    }\n",
              "</style>\n",
              "<table border=\"1\" class=\"dataframe\">\n",
              "  <thead>\n",
              "    <tr style=\"text-align: right;\">\n",
              "      <th></th>\n",
              "      <th>pais</th>\n",
              "      <th>provincia_departamento</th>\n",
              "      <th>ciudad</th>\n",
              "      <th>property_type</th>\n",
              "      <th>operation_type</th>\n",
              "      <th>rooms</th>\n",
              "      <th>bedrooms</th>\n",
              "      <th>bathrooms</th>\n",
              "      <th>surface_total</th>\n",
              "      <th>price</th>\n",
              "    </tr>\n",
              "    <tr>\n",
              "      <th>Id</th>\n",
              "      <th></th>\n",
              "      <th></th>\n",
              "      <th></th>\n",
              "      <th></th>\n",
              "      <th></th>\n",
              "      <th></th>\n",
              "      <th></th>\n",
              "      <th></th>\n",
              "      <th></th>\n",
              "      <th></th>\n",
              "    </tr>\n",
              "  </thead>\n",
              "  <tbody>\n",
              "    <tr>\n",
              "      <th>0</th>\n",
              "      <td>Argentina</td>\n",
              "      <td>Capital Federal</td>\n",
              "      <td>Villa Crespo</td>\n",
              "      <td>Departamento</td>\n",
              "      <td>Venta</td>\n",
              "      <td>2</td>\n",
              "      <td>1</td>\n",
              "      <td>1</td>\n",
              "      <td>37</td>\n",
              "      <td>85000</td>\n",
              "    </tr>\n",
              "    <tr>\n",
              "      <th>1</th>\n",
              "      <td>Argentina</td>\n",
              "      <td>Capital Federal</td>\n",
              "      <td>Palermo</td>\n",
              "      <td>Departamento</td>\n",
              "      <td>Venta</td>\n",
              "      <td>6</td>\n",
              "      <td>4</td>\n",
              "      <td>4</td>\n",
              "      <td>300</td>\n",
              "      <td>1590000</td>\n",
              "    </tr>\n",
              "    <tr>\n",
              "      <th>2</th>\n",
              "      <td>Colombia</td>\n",
              "      <td>AtlÃ¡ntico</td>\n",
              "      <td>Barranquilla</td>\n",
              "      <td>Apartamento</td>\n",
              "      <td>Venta</td>\n",
              "      <td>3</td>\n",
              "      <td>3</td>\n",
              "      <td>3</td>\n",
              "      <td>95</td>\n",
              "      <td>85329</td>\n",
              "    </tr>\n",
              "    <tr>\n",
              "      <th>3</th>\n",
              "      <td>Colombia</td>\n",
              "      <td>Valle del Cauca</td>\n",
              "      <td>Cali</td>\n",
              "      <td>Apartamento</td>\n",
              "      <td>Venta</td>\n",
              "      <td>3</td>\n",
              "      <td>3</td>\n",
              "      <td>1</td>\n",
              "      <td>60</td>\n",
              "      <td>22846</td>\n",
              "    </tr>\n",
              "    <tr>\n",
              "      <th>4</th>\n",
              "      <td>Argentina</td>\n",
              "      <td>Capital Federal</td>\n",
              "      <td>Balvanera</td>\n",
              "      <td>Departamento</td>\n",
              "      <td>Venta</td>\n",
              "      <td>3</td>\n",
              "      <td>2</td>\n",
              "      <td>1</td>\n",
              "      <td>45</td>\n",
              "      <td>80000</td>\n",
              "    </tr>\n",
              "    <tr>\n",
              "      <th>...</th>\n",
              "      <td>...</td>\n",
              "      <td>...</td>\n",
              "      <td>...</td>\n",
              "      <td>...</td>\n",
              "      <td>...</td>\n",
              "      <td>...</td>\n",
              "      <td>...</td>\n",
              "      <td>...</td>\n",
              "      <td>...</td>\n",
              "      <td>...</td>\n",
              "    </tr>\n",
              "    <tr>\n",
              "      <th>25655</th>\n",
              "      <td>Colombia</td>\n",
              "      <td>Antioquia</td>\n",
              "      <td>Bello</td>\n",
              "      <td>Apartamento</td>\n",
              "      <td>Venta</td>\n",
              "      <td>3</td>\n",
              "      <td>3</td>\n",
              "      <td>2</td>\n",
              "      <td>61</td>\n",
              "      <td>41288</td>\n",
              "    </tr>\n",
              "    <tr>\n",
              "      <th>25656</th>\n",
              "      <td>Argentina</td>\n",
              "      <td>Capital Federal</td>\n",
              "      <td>Caballito</td>\n",
              "      <td>Departamento</td>\n",
              "      <td>Venta</td>\n",
              "      <td>2</td>\n",
              "      <td>1</td>\n",
              "      <td>1</td>\n",
              "      <td>40</td>\n",
              "      <td>85000</td>\n",
              "    </tr>\n",
              "    <tr>\n",
              "      <th>25657</th>\n",
              "      <td>Argentina</td>\n",
              "      <td>Capital Federal</td>\n",
              "      <td>Villa del Parque</td>\n",
              "      <td>Departamento</td>\n",
              "      <td>Venta</td>\n",
              "      <td>2</td>\n",
              "      <td>1</td>\n",
              "      <td>1</td>\n",
              "      <td>61</td>\n",
              "      <td>185700</td>\n",
              "    </tr>\n",
              "    <tr>\n",
              "      <th>25658</th>\n",
              "      <td>Argentina</td>\n",
              "      <td>Capital Federal</td>\n",
              "      <td>San Cristobal</td>\n",
              "      <td>Departamento</td>\n",
              "      <td>Venta</td>\n",
              "      <td>3</td>\n",
              "      <td>2</td>\n",
              "      <td>1</td>\n",
              "      <td>53</td>\n",
              "      <td>120000</td>\n",
              "    </tr>\n",
              "    <tr>\n",
              "      <th>25659</th>\n",
              "      <td>Argentina</td>\n",
              "      <td>Buenos Aires Costa AtlÃ¡ntica</td>\n",
              "      <td>Mar del Plata</td>\n",
              "      <td>Departamento</td>\n",
              "      <td>Venta</td>\n",
              "      <td>2</td>\n",
              "      <td>1</td>\n",
              "      <td>1</td>\n",
              "      <td>45</td>\n",
              "      <td>63000</td>\n",
              "    </tr>\n",
              "  </tbody>\n",
              "</table>\n",
              "<p>25660 rows × 10 columns</p>\n",
              "</div>"
            ],
            "text/plain": [
              "            pais         provincia_departamento  ... surface_total    price\n",
              "Id                                               ...                       \n",
              "0      Argentina                Capital Federal  ...            37    85000\n",
              "1      Argentina                Capital Federal  ...           300  1590000\n",
              "2       Colombia                     AtlÃ¡ntico  ...            95    85329\n",
              "3       Colombia                Valle del Cauca  ...            60    22846\n",
              "4      Argentina                Capital Federal  ...            45    80000\n",
              "...          ...                            ...  ...           ...      ...\n",
              "25655   Colombia                      Antioquia  ...            61    41288\n",
              "25656  Argentina                Capital Federal  ...            40    85000\n",
              "25657  Argentina                Capital Federal  ...            61   185700\n",
              "25658  Argentina                Capital Federal  ...            53   120000\n",
              "25659  Argentina  Buenos Aires Costa AtlÃ¡ntica  ...            45    63000\n",
              "\n",
              "[25660 rows x 10 columns]"
            ]
          },
          "metadata": {
            "tags": []
          },
          "execution_count": 11
        }
      ]
    },
    {
      "cell_type": "code",
      "metadata": {
        "id": "Fx0t2fwC1BQZ",
        "colab_type": "code",
        "colab": {
          "base_uri": "https://localhost:8080/",
          "height": 538
        },
        "outputId": "317b9bf9-538a-4c7b-a424-213a4089ee0c"
      },
      "source": [
        "data.drop('currency', axis=1)  # .drop tiene los parametros axis=1 para borrar columnas, axis=0 para borrar filas"
      ],
      "execution_count": null,
      "outputs": [
        {
          "output_type": "execute_result",
          "data": {
            "text/html": [
              "<div>\n",
              "<style scoped>\n",
              "    .dataframe tbody tr th:only-of-type {\n",
              "        vertical-align: middle;\n",
              "    }\n",
              "\n",
              "    .dataframe tbody tr th {\n",
              "        vertical-align: top;\n",
              "    }\n",
              "\n",
              "    .dataframe thead th {\n",
              "        text-align: right;\n",
              "    }\n",
              "</style>\n",
              "<table border=\"1\" class=\"dataframe\">\n",
              "  <thead>\n",
              "    <tr style=\"text-align: right;\">\n",
              "      <th></th>\n",
              "      <th>pais</th>\n",
              "      <th>provincia_departamento</th>\n",
              "      <th>ciudad</th>\n",
              "      <th>property_type</th>\n",
              "      <th>operation_type</th>\n",
              "      <th>rooms</th>\n",
              "      <th>bedrooms</th>\n",
              "      <th>bathrooms</th>\n",
              "      <th>surface_total</th>\n",
              "      <th>price</th>\n",
              "    </tr>\n",
              "    <tr>\n",
              "      <th>Id</th>\n",
              "      <th></th>\n",
              "      <th></th>\n",
              "      <th></th>\n",
              "      <th></th>\n",
              "      <th></th>\n",
              "      <th></th>\n",
              "      <th></th>\n",
              "      <th></th>\n",
              "      <th></th>\n",
              "      <th></th>\n",
              "    </tr>\n",
              "  </thead>\n",
              "  <tbody>\n",
              "    <tr>\n",
              "      <th>0</th>\n",
              "      <td>Argentina</td>\n",
              "      <td>Capital Federal</td>\n",
              "      <td>Villa Crespo</td>\n",
              "      <td>Departamento</td>\n",
              "      <td>Venta</td>\n",
              "      <td>2</td>\n",
              "      <td>1</td>\n",
              "      <td>1</td>\n",
              "      <td>37</td>\n",
              "      <td>85000</td>\n",
              "    </tr>\n",
              "    <tr>\n",
              "      <th>1</th>\n",
              "      <td>Argentina</td>\n",
              "      <td>Capital Federal</td>\n",
              "      <td>Palermo</td>\n",
              "      <td>Departamento</td>\n",
              "      <td>Venta</td>\n",
              "      <td>6</td>\n",
              "      <td>4</td>\n",
              "      <td>4</td>\n",
              "      <td>300</td>\n",
              "      <td>1590000</td>\n",
              "    </tr>\n",
              "    <tr>\n",
              "      <th>2</th>\n",
              "      <td>Colombia</td>\n",
              "      <td>AtlÃ¡ntico</td>\n",
              "      <td>Barranquilla</td>\n",
              "      <td>Apartamento</td>\n",
              "      <td>Venta</td>\n",
              "      <td>3</td>\n",
              "      <td>3</td>\n",
              "      <td>3</td>\n",
              "      <td>95</td>\n",
              "      <td>85329</td>\n",
              "    </tr>\n",
              "    <tr>\n",
              "      <th>3</th>\n",
              "      <td>Colombia</td>\n",
              "      <td>Valle del Cauca</td>\n",
              "      <td>Cali</td>\n",
              "      <td>Apartamento</td>\n",
              "      <td>Venta</td>\n",
              "      <td>3</td>\n",
              "      <td>3</td>\n",
              "      <td>1</td>\n",
              "      <td>60</td>\n",
              "      <td>22846</td>\n",
              "    </tr>\n",
              "    <tr>\n",
              "      <th>4</th>\n",
              "      <td>Argentina</td>\n",
              "      <td>Capital Federal</td>\n",
              "      <td>Balvanera</td>\n",
              "      <td>Departamento</td>\n",
              "      <td>Venta</td>\n",
              "      <td>3</td>\n",
              "      <td>2</td>\n",
              "      <td>1</td>\n",
              "      <td>45</td>\n",
              "      <td>80000</td>\n",
              "    </tr>\n",
              "    <tr>\n",
              "      <th>...</th>\n",
              "      <td>...</td>\n",
              "      <td>...</td>\n",
              "      <td>...</td>\n",
              "      <td>...</td>\n",
              "      <td>...</td>\n",
              "      <td>...</td>\n",
              "      <td>...</td>\n",
              "      <td>...</td>\n",
              "      <td>...</td>\n",
              "      <td>...</td>\n",
              "    </tr>\n",
              "    <tr>\n",
              "      <th>25655</th>\n",
              "      <td>Colombia</td>\n",
              "      <td>Antioquia</td>\n",
              "      <td>Bello</td>\n",
              "      <td>Apartamento</td>\n",
              "      <td>Venta</td>\n",
              "      <td>3</td>\n",
              "      <td>3</td>\n",
              "      <td>2</td>\n",
              "      <td>61</td>\n",
              "      <td>41288</td>\n",
              "    </tr>\n",
              "    <tr>\n",
              "      <th>25656</th>\n",
              "      <td>Argentina</td>\n",
              "      <td>Capital Federal</td>\n",
              "      <td>Caballito</td>\n",
              "      <td>Departamento</td>\n",
              "      <td>Venta</td>\n",
              "      <td>2</td>\n",
              "      <td>1</td>\n",
              "      <td>1</td>\n",
              "      <td>40</td>\n",
              "      <td>85000</td>\n",
              "    </tr>\n",
              "    <tr>\n",
              "      <th>25657</th>\n",
              "      <td>Argentina</td>\n",
              "      <td>Capital Federal</td>\n",
              "      <td>Villa del Parque</td>\n",
              "      <td>Departamento</td>\n",
              "      <td>Venta</td>\n",
              "      <td>2</td>\n",
              "      <td>1</td>\n",
              "      <td>1</td>\n",
              "      <td>61</td>\n",
              "      <td>185700</td>\n",
              "    </tr>\n",
              "    <tr>\n",
              "      <th>25658</th>\n",
              "      <td>Argentina</td>\n",
              "      <td>Capital Federal</td>\n",
              "      <td>San Cristobal</td>\n",
              "      <td>Departamento</td>\n",
              "      <td>Venta</td>\n",
              "      <td>3</td>\n",
              "      <td>2</td>\n",
              "      <td>1</td>\n",
              "      <td>53</td>\n",
              "      <td>120000</td>\n",
              "    </tr>\n",
              "    <tr>\n",
              "      <th>25659</th>\n",
              "      <td>Argentina</td>\n",
              "      <td>Buenos Aires Costa AtlÃ¡ntica</td>\n",
              "      <td>Mar del Plata</td>\n",
              "      <td>Departamento</td>\n",
              "      <td>Venta</td>\n",
              "      <td>2</td>\n",
              "      <td>1</td>\n",
              "      <td>1</td>\n",
              "      <td>45</td>\n",
              "      <td>63000</td>\n",
              "    </tr>\n",
              "  </tbody>\n",
              "</table>\n",
              "<p>25660 rows × 10 columns</p>\n",
              "</div>"
            ],
            "text/plain": [
              "            pais         provincia_departamento  ... surface_total    price\n",
              "Id                                               ...                       \n",
              "0      Argentina                Capital Federal  ...            37    85000\n",
              "1      Argentina                Capital Federal  ...           300  1590000\n",
              "2       Colombia                     AtlÃ¡ntico  ...            95    85329\n",
              "3       Colombia                Valle del Cauca  ...            60    22846\n",
              "4      Argentina                Capital Federal  ...            45    80000\n",
              "...          ...                            ...  ...           ...      ...\n",
              "25655   Colombia                      Antioquia  ...            61    41288\n",
              "25656  Argentina                Capital Federal  ...            40    85000\n",
              "25657  Argentina                Capital Federal  ...            61   185700\n",
              "25658  Argentina                Capital Federal  ...            53   120000\n",
              "25659  Argentina  Buenos Aires Costa AtlÃ¡ntica  ...            45    63000\n",
              "\n",
              "[25660 rows x 10 columns]"
            ]
          },
          "metadata": {
            "tags": []
          },
          "execution_count": 10
        }
      ]
    },
    {
      "cell_type": "code",
      "metadata": {
        "id": "Dd1tIU7_w71p",
        "colab_type": "code",
        "colab": {}
      },
      "source": [
        "# Import PyDrive and associated libraries.\n",
        "# This only needs to be done once per notebook.\n",
        "from pydrive.auth import GoogleAuth\n",
        "from pydrive.drive import GoogleDrive\n",
        "from google.colab import auth\n",
        "from oauth2client.client import GoogleCredentials\n",
        "\n",
        "# Authenticate and create the PyDrive client.\n",
        "# This only needs to be done once per notebook.\n",
        "auth.authenticate_user()\n",
        "gauth = GoogleAuth()\n",
        "gauth.credentials = GoogleCredentials.get_application_default()\n",
        "drive = GoogleDrive(gauth)\n",
        "\n",
        "# Download a file based on its file ID.\n",
        "#\n",
        "# A file ID looks like: laggVyWshwcyP6kEI-y_W3P8D26sz\n",
        "file_id = 'REPLACE_WITH_YOUR_FILE_ID'\n",
        "downloaded = drive.CreateFile({'id': file_id})\n",
        "print('Downloaded content \"{}\"'.format(downloaded.GetContentString()))"
      ],
      "execution_count": null,
      "outputs": []
    },
    {
      "cell_type": "code",
      "metadata": {
        "id": "Om0Iog1tw9Rz",
        "colab_type": "code",
        "colab": {}
      },
      "source": [
        "from google.colab import files\n",
        "\n",
        "with open('example.txt', 'w') as f:\n",
        "  f.write('some content')\n",
        "\n",
        "files.download('example.txt')"
      ],
      "execution_count": null,
      "outputs": []
    },
    {
      "cell_type": "code",
      "metadata": {
        "id": "rBHYf5e5e6HY",
        "colab_type": "code",
        "colab": {}
      },
      "source": [
        "data.drop('operation_type', axis=1)"
      ],
      "execution_count": null,
      "outputs": []
    },
    {
      "cell_type": "markdown",
      "metadata": {
        "id": "6BeAJ_Q8uO4N",
        "colab_type": "text"
      },
      "source": [
        "# **Preprocesamiento de los datos**"
      ]
    },
    {
      "cell_type": "markdown",
      "metadata": {
        "id": "G9kO4LXHyvfu",
        "colab_type": "text"
      },
      "source": [
        "## I. *Verificación de datos perdidos*"
      ]
    },
    {
      "cell_type": "code",
      "metadata": {
        "id": "k0JccqhszA7j",
        "colab_type": "code",
        "colab": {
          "base_uri": "https://localhost:8080/",
          "height": 582
        },
        "outputId": "d4b5d63d-8c6c-4d0f-f1ba-d1e4e277c950"
      },
      "source": [
        "import missingno as ms\n",
        "ms.matrix(data)"
      ],
      "execution_count": null,
      "outputs": [
        {
          "output_type": "stream",
          "text": [
            "/usr/local/lib/python3.6/dist-packages/statsmodels/tools/_testing.py:19: FutureWarning: pandas.util.testing is deprecated. Use the functions in the public API at pandas.testing instead.\n",
            "  import pandas.util.testing as tm\n"
          ],
          "name": "stderr"
        },
        {
          "output_type": "execute_result",
          "data": {
            "text/plain": [
              "<matplotlib.axes._subplots.AxesSubplot at 0x7fc573a5b6a0>"
            ]
          },
          "metadata": {
            "tags": []
          },
          "execution_count": 15
        },
        {
          "output_type": "display_data",
          "data": {
            "image/png": "[encoded data removed]",
            "text/plain": [
              "<Figure size 1800x720 with 2 Axes>"
            ]
          },
          "metadata": {
            "tags": [],
            "needs_background": "light"
          }
        }
      ]
    },
    {
      "cell_type": "code",
      "metadata": {
        "id": "BtyIde-5gh48",
        "colab_type": "code",
        "colab": {
          "base_uri": "https://localhost:8080/",
          "height": 204
        },
        "outputId": "7e7669d8-b7e0-4af9-ded7-a381b5df3e1c"
      },
      "source": [
        "for col in data.columns:\n",
        "  print('En la columna',col,'hay',data[col].isna().sum(),'valores nulos')"
      ],
      "execution_count": null,
      "outputs": [
        {
          "output_type": "stream",
          "text": [
            "En la columna pais hay 0 valores nulos\n",
            "En la columna provincia_departamento hay 0 valores nulos\n",
            "En la columna ciudad hay 0 valores nulos\n",
            "En la columna property_type hay 0 valores nulos\n",
            "En la columna operation_type hay 0 valores nulos\n",
            "En la columna rooms hay 0 valores nulos\n",
            "En la columna bedrooms hay 0 valores nulos\n",
            "En la columna bathrooms hay 0 valores nulos\n",
            "En la columna surface_total hay 0 valores nulos\n",
            "En la columna currency hay 0 valores nulos\n",
            "En la columna price hay 0 valores nulos\n"
          ],
          "name": "stdout"
        }
      ]
    },
    {
      "cell_type": "code",
      "metadata": {
        "id": "NQRM-i3C41Ez",
        "colab_type": "code",
        "colab": {
          "base_uri": "https://localhost:8080/",
          "height": 204
        },
        "outputId": "8c9649bb-c11e-4c19-a2b3-1882b28aba9c"
      },
      "source": [
        "for col in data.columns:\n",
        "  print('En la columna',col,'hay',data[col].isna().sum()/data[col].shape[0],'valores nulos')"
      ],
      "execution_count": null,
      "outputs": [
        {
          "output_type": "stream",
          "text": [
            "En la columna pais hay 0.0 valores nulos\n",
            "En la columna provincia_departamento hay 0.0 valores nulos\n",
            "En la columna ciudad hay 0.0 valores nulos\n",
            "En la columna property_type hay 0.0 valores nulos\n",
            "En la columna operation_type hay 0.0 valores nulos\n",
            "En la columna rooms hay 0.0 valores nulos\n",
            "En la columna bedrooms hay 0.0 valores nulos\n",
            "En la columna bathrooms hay 0.0 valores nulos\n",
            "En la columna surface_total hay 0.0 valores nulos\n",
            "En la columna currency hay 0.0 valores nulos\n",
            "En la columna price hay 0.0 valores nulos\n"
          ],
          "name": "stdout"
        }
      ]
    },
    {
      "cell_type": "markdown",
      "metadata": {
        "colab_type": "text",
        "id": "FiHB3qp3Aaua"
      },
      "source": [
        "## II. *Verificación de outliers*"
      ]
    },
    {
      "cell_type": "markdown",
      "metadata": {
        "id": "PTGbnH0xCant",
        "colab_type": "text"
      },
      "source": [
        "Para el presente caso, la variable más susceptible a error de valores muy por encima del promedio es la **columna precio**"
      ]
    },
    {
      "cell_type": "code",
      "metadata": {
        "colab_type": "code",
        "id": "zsNyFKGIAuOn",
        "colab": {
          "base_uri": "https://localhost:8080/",
          "height": 361
        },
        "outputId": "dc27cf8d-9c5b-447d-fd5a-c3a7a05003ef"
      },
      "source": [
        "\"Se recomienda el uso del método boxplot de la librería seaborn (sns) para una rápida verificación de los outliers\"\n",
        "import matplotlib.pyplot as plt\n",
        "import seaborn as sns\n",
        "plt.style.use('ggplot')\n",
        "plt.figure(figsize=(4,6))\n",
        "sns.boxplot(data['surface_total'], orient='v')\n",
        "plt.show()"
      ],
      "execution_count": null,
      "outputs": [
        {
          "output_type": "display_data",
          "data": {
            "image/png": "[encoded data removed]",
            "text/plain": [
              "<Figure size 288x432 with 1 Axes>"
            ]
          },
          "metadata": {
            "tags": []
          }
        }
      ]
    },
    {
      "cell_type": "markdown",
      "metadata": {
        "id": "ZQgakkg6CoKq",
        "colab_type": "text"
      },
      "source": [
        "Como se ha hecho evidente existen outliers en la columna precio, así que proceda a **reemplazarlos por el percentil 95**"
      ]
    },
    {
      "cell_type": "code",
      "metadata": {
        "id": "LnWj71eSCx6A",
        "colab_type": "code",
        "colab": {}
      },
      "source": [
        "outliers = data[data['surface_total'] > data['surface_total'].quantile(.95)].index\n",
        "data.loc[outliers,'surface_total'] = data['surface_total'].quantile(.95)"
      ],
      "execution_count": null,
      "outputs": []
    },
    {
      "cell_type": "markdown",
      "metadata": {
        "colab_type": "text",
        "id": "B1kX5fC9C-wC"
      },
      "source": [
        "## III. *Feature Engineering*"
      ]
    },
    {
      "cell_type": "markdown",
      "metadata": {
        "id": "ugXz7iuTDD05",
        "colab_type": "text"
      },
      "source": [
        "Sería interesante calcular para **todos los registros** el área por cada baño, cuarto y habitación. Para ello tome las siguientes aproximaciones:\n",
        "\n",
        "      1. Área de un baño = 12,5% del área total\n",
        "      2. Área de un cuarto = 15% del área total\n",
        "      3. Área de una habitación = 20% del área total   \n",
        "\n"
      ]
    },
    {
      "cell_type": "markdown",
      "metadata": {
        "id": "1XxQ05wTD1un",
        "colab_type": "text"
      },
      "source": [
        "**Crear la función** necesaria para calcular las áreas por cada registro y **añadir** los resultados como **nuevas columnas** de data"
      ]
    },
    {
      "cell_type": "code",
      "metadata": {
        "id": "WFdWQ5FDBhhR",
        "colab_type": "code",
        "colab": {}
      },
      "source": [
        "def area_bathroom (a, b): \n",
        "    return (0.125*b)/a"
      ],
      "execution_count": 46,
      "outputs": []
    },
    {
      "cell_type": "code",
      "metadata": {
        "id": "rusZzxSob6Al",
        "colab_type": "code",
        "colab": {}
      },
      "source": [
        "data['area_bathroom'] = data.apply(lambda row : area_bathroom(row['bathrooms'],row['surface_total']), axis = 1)"
      ],
      "execution_count": 42,
      "outputs": []
    },
    {
      "cell_type": "code",
      "metadata": {
        "id": "RJAK__KB_GXq",
        "colab_type": "code",
        "colab": {}
      },
      "source": [
        "def area_bedrooms (a, b): \n",
        "    return (0.2*b)/a\n",
        "data['area_bedrooms'] = data.apply(lambda row : area_bedrooms(row['bedrooms'],row['surface_total']), axis = 1)   \n"
      ],
      "execution_count": 51,
      "outputs": []
    },
    {
      "cell_type": "code",
      "metadata": {
        "id": "0NcXxfx9_tN1",
        "colab_type": "code",
        "colab": {}
      },
      "source": [
        "def area_rooms (a, b): \n",
        "    return (0.1*b)/a\n",
        "    \n",
        "data['area_rooms'] = data.apply(lambda row : area_rooms(row['rooms'],row['surface_total']), axis = 1)   \n",
        "\n"
      ],
      "execution_count": 52,
      "outputs": []
    },
    {
      "cell_type": "code",
      "metadata": {
        "id": "IM2xUKnO9Kxm",
        "colab_type": "code",
        "colab": {
          "base_uri": "https://localhost:8080/",
          "height": 538
        },
        "outputId": "5ef6a40b-53b5-42f0-bb59-7f2d2df7293b"
      },
      "source": [
        "data"
      ],
      "execution_count": 53,
      "outputs": [
        {
          "output_type": "execute_result",
          "data": {
            "text/html": [
              "<div>\n",
              "<style scoped>\n",
              "    .dataframe tbody tr th:only-of-type {\n",
              "        vertical-align: middle;\n",
              "    }\n",
              "\n",
              "    .dataframe tbody tr th {\n",
              "        vertical-align: top;\n",
              "    }\n",
              "\n",
              "    .dataframe thead th {\n",
              "        text-align: right;\n",
              "    }\n",
              "</style>\n",
              "<table border=\"1\" class=\"dataframe\">\n",
              "  <thead>\n",
              "    <tr style=\"text-align: right;\">\n",
              "      <th></th>\n",
              "      <th>pais</th>\n",
              "      <th>provincia_departamento</th>\n",
              "      <th>ciudad</th>\n",
              "      <th>property_type</th>\n",
              "      <th>operation_type</th>\n",
              "      <th>rooms</th>\n",
              "      <th>bedrooms</th>\n",
              "      <th>bathrooms</th>\n",
              "      <th>surface_total</th>\n",
              "      <th>currency</th>\n",
              "      <th>price</th>\n",
              "      <th>area_bathroom</th>\n",
              "      <th>area_bedrooms</th>\n",
              "      <th>area_rooms</th>\n",
              "    </tr>\n",
              "    <tr>\n",
              "      <th>Id</th>\n",
              "      <th></th>\n",
              "      <th></th>\n",
              "      <th></th>\n",
              "      <th></th>\n",
              "      <th></th>\n",
              "      <th></th>\n",
              "      <th></th>\n",
              "      <th></th>\n",
              "      <th></th>\n",
              "      <th></th>\n",
              "      <th></th>\n",
              "      <th></th>\n",
              "      <th></th>\n",
              "      <th></th>\n",
              "    </tr>\n",
              "  </thead>\n",
              "  <tbody>\n",
              "    <tr>\n",
              "      <th>0</th>\n",
              "      <td>Argentina</td>\n",
              "      <td>Capital Federal</td>\n",
              "      <td>Villa Crespo</td>\n",
              "      <td>Departamento</td>\n",
              "      <td>Venta</td>\n",
              "      <td>2</td>\n",
              "      <td>1</td>\n",
              "      <td>1</td>\n",
              "      <td>37.0</td>\n",
              "      <td>USD</td>\n",
              "      <td>85000</td>\n",
              "      <td>4.625000</td>\n",
              "      <td>7.400000</td>\n",
              "      <td>1.850000</td>\n",
              "    </tr>\n",
              "    <tr>\n",
              "      <th>1</th>\n",
              "      <td>Argentina</td>\n",
              "      <td>Capital Federal</td>\n",
              "      <td>Palermo</td>\n",
              "      <td>Departamento</td>\n",
              "      <td>Venta</td>\n",
              "      <td>6</td>\n",
              "      <td>4</td>\n",
              "      <td>4</td>\n",
              "      <td>194.0</td>\n",
              "      <td>USD</td>\n",
              "      <td>1590000</td>\n",
              "      <td>6.062500</td>\n",
              "      <td>9.700000</td>\n",
              "      <td>3.233333</td>\n",
              "    </tr>\n",
              "    <tr>\n",
              "      <th>2</th>\n",
              "      <td>Colombia</td>\n",
              "      <td>AtlÃ¡ntico</td>\n",
              "      <td>Barranquilla</td>\n",
              "      <td>Apartamento</td>\n",
              "      <td>Venta</td>\n",
              "      <td>3</td>\n",
              "      <td>3</td>\n",
              "      <td>3</td>\n",
              "      <td>95.0</td>\n",
              "      <td>USD</td>\n",
              "      <td>85329</td>\n",
              "      <td>3.958333</td>\n",
              "      <td>6.333333</td>\n",
              "      <td>3.166667</td>\n",
              "    </tr>\n",
              "    <tr>\n",
              "      <th>3</th>\n",
              "      <td>Colombia</td>\n",
              "      <td>Valle del Cauca</td>\n",
              "      <td>Cali</td>\n",
              "      <td>Apartamento</td>\n",
              "      <td>Venta</td>\n",
              "      <td>3</td>\n",
              "      <td>3</td>\n",
              "      <td>1</td>\n",
              "      <td>60.0</td>\n",
              "      <td>USD</td>\n",
              "      <td>22846</td>\n",
              "      <td>7.500000</td>\n",
              "      <td>4.000000</td>\n",
              "      <td>2.000000</td>\n",
              "    </tr>\n",
              "    <tr>\n",
              "      <th>4</th>\n",
              "      <td>Argentina</td>\n",
              "      <td>Capital Federal</td>\n",
              "      <td>Balvanera</td>\n",
              "      <td>Departamento</td>\n",
              "      <td>Venta</td>\n",
              "      <td>3</td>\n",
              "      <td>2</td>\n",
              "      <td>1</td>\n",
              "      <td>45.0</td>\n",
              "      <td>USD</td>\n",
              "      <td>80000</td>\n",
              "      <td>5.625000</td>\n",
              "      <td>4.500000</td>\n",
              "      <td>1.500000</td>\n",
              "    </tr>\n",
              "    <tr>\n",
              "      <th>...</th>\n",
              "      <td>...</td>\n",
              "      <td>...</td>\n",
              "      <td>...</td>\n",
              "      <td>...</td>\n",
              "      <td>...</td>\n",
              "      <td>...</td>\n",
              "      <td>...</td>\n",
              "      <td>...</td>\n",
              "      <td>...</td>\n",
              "      <td>...</td>\n",
              "      <td>...</td>\n",
              "      <td>...</td>\n",
              "      <td>...</td>\n",
              "      <td>...</td>\n",
              "    </tr>\n",
              "    <tr>\n",
              "      <th>25655</th>\n",
              "      <td>Colombia</td>\n",
              "      <td>Antioquia</td>\n",
              "      <td>Bello</td>\n",
              "      <td>Apartamento</td>\n",
              "      <td>Venta</td>\n",
              "      <td>3</td>\n",
              "      <td>3</td>\n",
              "      <td>2</td>\n",
              "      <td>61.0</td>\n",
              "      <td>USD</td>\n",
              "      <td>41288</td>\n",
              "      <td>3.812500</td>\n",
              "      <td>4.066667</td>\n",
              "      <td>2.033333</td>\n",
              "    </tr>\n",
              "    <tr>\n",
              "      <th>25656</th>\n",
              "      <td>Argentina</td>\n",
              "      <td>Capital Federal</td>\n",
              "      <td>Caballito</td>\n",
              "      <td>Departamento</td>\n",
              "      <td>Venta</td>\n",
              "      <td>2</td>\n",
              "      <td>1</td>\n",
              "      <td>1</td>\n",
              "      <td>40.0</td>\n",
              "      <td>USD</td>\n",
              "      <td>85000</td>\n",
              "      <td>5.000000</td>\n",
              "      <td>8.000000</td>\n",
              "      <td>2.000000</td>\n",
              "    </tr>\n",
              "    <tr>\n",
              "      <th>25657</th>\n",
              "      <td>Argentina</td>\n",
              "      <td>Capital Federal</td>\n",
              "      <td>Villa del Parque</td>\n",
              "      <td>Departamento</td>\n",
              "      <td>Venta</td>\n",
              "      <td>2</td>\n",
              "      <td>1</td>\n",
              "      <td>1</td>\n",
              "      <td>61.0</td>\n",
              "      <td>USD</td>\n",
              "      <td>185700</td>\n",
              "      <td>7.625000</td>\n",
              "      <td>12.200000</td>\n",
              "      <td>3.050000</td>\n",
              "    </tr>\n",
              "    <tr>\n",
              "      <th>25658</th>\n",
              "      <td>Argentina</td>\n",
              "      <td>Capital Federal</td>\n",
              "      <td>San Cristobal</td>\n",
              "      <td>Departamento</td>\n",
              "      <td>Venta</td>\n",
              "      <td>3</td>\n",
              "      <td>2</td>\n",
              "      <td>1</td>\n",
              "      <td>53.0</td>\n",
              "      <td>USD</td>\n",
              "      <td>120000</td>\n",
              "      <td>6.625000</td>\n",
              "      <td>5.300000</td>\n",
              "      <td>1.766667</td>\n",
              "    </tr>\n",
              "    <tr>\n",
              "      <th>25659</th>\n",
              "      <td>Argentina</td>\n",
              "      <td>Buenos Aires Costa AtlÃ¡ntica</td>\n",
              "      <td>Mar del Plata</td>\n",
              "      <td>Departamento</td>\n",
              "      <td>Venta</td>\n",
              "      <td>2</td>\n",
              "      <td>1</td>\n",
              "      <td>1</td>\n",
              "      <td>45.0</td>\n",
              "      <td>USD</td>\n",
              "      <td>63000</td>\n",
              "      <td>5.625000</td>\n",
              "      <td>9.000000</td>\n",
              "      <td>2.250000</td>\n",
              "    </tr>\n",
              "  </tbody>\n",
              "</table>\n",
              "<p>25660 rows × 14 columns</p>\n",
              "</div>"
            ],
            "text/plain": [
              "            pais         provincia_departamento  ... area_bedrooms area_rooms\n",
              "Id                                               ...                         \n",
              "0      Argentina                Capital Federal  ...      7.400000   1.850000\n",
              "1      Argentina                Capital Federal  ...      9.700000   3.233333\n",
              "2       Colombia                     AtlÃ¡ntico  ...      6.333333   3.166667\n",
              "3       Colombia                Valle del Cauca  ...      4.000000   2.000000\n",
              "4      Argentina                Capital Federal  ...      4.500000   1.500000\n",
              "...          ...                            ...  ...           ...        ...\n",
              "25655   Colombia                      Antioquia  ...      4.066667   2.033333\n",
              "25656  Argentina                Capital Federal  ...      8.000000   2.000000\n",
              "25657  Argentina                Capital Federal  ...     12.200000   3.050000\n",
              "25658  Argentina                Capital Federal  ...      5.300000   1.766667\n",
              "25659  Argentina  Buenos Aires Costa AtlÃ¡ntica  ...      9.000000   2.250000\n",
              "\n",
              "[25660 rows x 14 columns]"
            ]
          },
          "metadata": {
            "tags": []
          },
          "execution_count": 53
        }
      ]
    },
    {
      "cell_type": "markdown",
      "metadata": {
        "id": "f9LZWfsfXyD5",
        "colab_type": "text"
      },
      "source": [
        "Se ha procedido a comparar el **precio promedio** de cada **departamento_provincia** dando como resultado un indicador **entero**:"
      ]
    },
    {
      "cell_type": "code",
      "metadata": {
        "id": "pHY14QIIUSYm",
        "colab_type": "code",
        "colab": {}
      },
      "source": [
        "externa=pd.read_csv(\"https://raw.githubusercontent.com/javalpe/datasets/master/merge.csv\",encoding='latin',sep=\";\")"
      ],
      "execution_count": 54,
      "outputs": []
    },
    {
      "cell_type": "markdown",
      "metadata": {
        "id": "BfmA7UYfX-If",
        "colab_type": "text"
      },
      "source": [
        "Actualizamos data incluyendo una **nueva columna** al final"
      ]
    },
    {
      "cell_type": "code",
      "metadata": {
        "id": "n6QWZXHzUmsl",
        "colab_type": "code",
        "colab": {}
      },
      "source": [
        "data=data.merge(externa, left_on='provincia_departamento', right_on='provincia_departamento')"
      ],
      "execution_count": 55,
      "outputs": []
    }
  ]
}